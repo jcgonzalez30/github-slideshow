{
  "nbformat": 4,
  "nbformat_minor": 0,
  "metadata": {
    "colab": {
      "name": "NeuronaArtificial.ipynb",
      "provenance": [],
      "collapsed_sections": [
        "rX8mhOLljYeM"
      ],
      "include_colab_link": true
    },
    "kernelspec": {
      "display_name": "Python 3",
      "name": "python3"
    }
  },
  "cells": [
    {
      "cell_type": "markdown",
      "metadata": {
        "id": "view-in-github",
        "colab_type": "text"
      },
      "source": [
        "<a href=\"https://colab.research.google.com/github/jcgonzalez30/github-slideshow/blob/master/NeuronaArtificial.ipynb\" target=\"_parent\"><img src=\"https://colab.research.google.com/assets/colab-badge.svg\" alt=\"Open In Colab\"/></a>"
      ]
    },
    {
      "cell_type": "markdown",
      "metadata": {
        "id": "rX8mhOLljYeM"
      },
      "source": [
        "##### Copyright 2019 The TensorFlow Authors."
      ]
    },
    {
      "cell_type": "code",
      "metadata": {
        "cellView": "form",
        "id": "BZSlp3DAjdYf"
      },
      "source": [
        "#@title Licensed under the Apache License, Version 2.0 (the \"License\");\n",
        "# you may not use this file except in compliance with the License.\n",
        "# You may obtain a copy of the License at\n",
        "#\n",
        "# https://www.apache.org/licenses/LICENSE-2.0\n",
        "#\n",
        "# Unless required by applicable law or agreed to in writing, software\n",
        "# distributed under the License is distributed on an \"AS IS\" BASIS,\n",
        "# WITHOUT WARRANTIES OR CONDITIONS OF ANY KIND, either express or implied.\n",
        "# See the License for the specific language governing permissions and\n",
        "# limitations under the License."
      ],
      "execution_count": null,
      "outputs": []
    },
    {
      "cell_type": "markdown",
      "metadata": {
        "id": "CMUznXPBwIxQ"
      },
      "source": [
        ""
      ]
    },
    {
      "cell_type": "code",
      "metadata": {
        "id": "z9LjMSEkwIFk"
      },
      "source": [
        ""
      ],
      "execution_count": null,
      "outputs": []
    },
    {
      "cell_type": "markdown",
      "metadata": {
        "id": "ETClvqW3wGyX"
      },
      "source": [
        ""
      ]
    },
    {
      "cell_type": "markdown",
      "metadata": {
        "id": "3wF5wszaj97Y"
      },
      "source": [
        "# TensorFlow 2 quickstart for beginners"
      ]
    },
    {
      "cell_type": "code",
      "metadata": {
        "id": "iKqclV2BVqMe"
      },
      "source": [
        "import numpy as np\n",
        "import scipy as nc\n",
        "import matplotlib.pyplot as plt\n",
        "\n",
        "from sklearn.datasets import make_circles\n",
        "# Definimos dos variables n y p \n",
        "# n Servirá número de registros. Podrían ser personas animales o cosas.\n",
        "# p Servirá para registrar el número de características de las personas o cosas\n",
        "# Crear el DATASET\n",
        "n = 500\n",
        "p = 2\n",
        "\n",
        "X,Y = make_circles(n_samples=n,factor=0.5, noise= 0.05)\n",
        "\n",
        "Y = Y[:, np.newaxis]\n",
        "\n",
        "plt.scatter(X[Y[:, 0]==0,0],X[Y[:, 0]==0,1],c=\"skyblue\")\n",
        "plt.scatter(X[Y[:, 0]==1,0],X[Y[:, 0]==1,1],c=\"salmon\")\n",
        "plt.axis(\"equal\")\n",
        "plt.show\n"
      ],
      "execution_count": null,
      "outputs": []
    },
    {
      "cell_type": "code",
      "metadata": {
        "id": "qiokrcYwluGX"
      },
      "source": [
        "# Clase de la capa de la red\n",
        "class neural_layer():\n",
        "  def __init__(self,n_conn,n_neur,act_f):\n",
        "    self.act_f = act_f\n",
        "    self.b = np.random.rand(1,n_neur)*2 - 1\n",
        "    self.w = np.random.rand(n_conn,n_neur)*2 -1\n",
        "\n",
        "sigm = (lambda x: 1/(1 + np.e **(-x)),\n",
        "        lambda x: x * (1-x))\n",
        "relu =  lambda x: np.maximum(0,x)\n",
        "\n",
        "_x = np.linspace(-5,5,100)\n",
        "plt.plot(_x, relu(_x))\n",
        "\n",
        "\n",
        "\n",
        "\n",
        "#Despliegue del array np"
      ],
      "execution_count": null,
      "outputs": []
    },
    {
      "cell_type": "code",
      "metadata": {
        "id": "ZGyatPdC6Ohd"
      },
      "source": [
        "l0 = neural_layer(p,4,sigm)\n",
        "l1 = neural_layer(4,8,sigm)\n",
        "#... así podríamos crear capa por capa. Pero, el objetivo es crear un código bonito."
      ],
      "execution_count": null,
      "outputs": []
    },
    {
      "cell_type": "code",
      "metadata": {
        "id": "TIKfV2vVoSIh"
      },
      "source": [
        "# Creación de variable de número de capas que tendrá la nuestra red\n",
        "\n",
        "def create_nn(topology,act_f):\n",
        "  nn = []\n",
        "  for l, layer in enumerate(topology[:-1]):\n",
        "    nn.append(neural_layer(topology[l],topology[l+1],act_f))\n",
        "  return nn\n"
      ],
      "execution_count": null,
      "outputs": []
    },
    {
      "cell_type": "code",
      "metadata": {
        "colab": {
          "base_uri": "https://localhost:8080/",
          "height": 1000
        },
        "id": "A7DqFzXWMcAe",
        "outputId": "3a1b343e-cd8a-414f-f9ca-60b301fbce89"
      },
      "source": [
        "topology = [p, 4, 8, 1]\n",
        "neural_net = create_nn(topology,sigm)\n",
        "\n",
        "l2_cost = (lambda Yp, Yr: np.mean((Yp - Yr) **2),\n",
        "           lambda Yp, Yr: (Yp-Yr))\n",
        "\n",
        "def train(neural_net, X, Y, l2_cost, lr = 0.5, train = True):\n",
        "  out = [(None, X)]\n",
        "\n",
        "#Creación del foward pass osea ir hacia adelante \n",
        "  for l, layer in enumerate(neural_net):\n",
        "    z = out[-1][1] @ neural_net[l].w + neural_net[l].b\n",
        "    a = neural_net[l].act_f[0](z)\n",
        "    out.append((z, a))\n",
        "  print(l2_cost[0](out[-1][1],Y))\n",
        "\n",
        "  if train:\n",
        "    #Backward pass osea ir hacia atrás\n",
        "    deltas = []\n",
        "    for l in reversed (range(0,len(neural_net))):\n",
        "      z = out[l+1][0]\n",
        "      a = out[l+1][1]\n",
        "      print(a.shape)\n",
        "\n",
        "      if l == len(neural_net) - 1:\n",
        "        deltas.insert(0,l2_cost[1](a,Y) * neural_net[l].act_f[1](a))\n",
        "      else:\n",
        "        deltas.insert(0,deltas[0] @ _w.T * neural_net[l].act_f[1](a))\n",
        "      _w = neural_net[l].w\n",
        "\n",
        "     #Gradient descent\n",
        "      neural_net[l].b = neural_net[l].b - np.mean(deltas[0], axis = 0, keepdims=True) * lr\n",
        "      neural_net[l].w = neural_net[l].w - out[l][1].T @ deltas[0] * lr\n",
        "\n",
        "  return out[-1][1]\n",
        "train(neural_net, X, Y, l2_cost,0.5)\n",
        "print(\"\")\n",
        "\n",
        "import time\n",
        "from IPython.display import  clear_output\n",
        "\n",
        "neural_n = create_nn(topology,sigm)\n",
        "\n",
        "loss = []\n",
        "\n",
        "for i in range(2500):\n",
        "\n",
        "# Entrenamiento a la red\n",
        "  pY = train(neural_n, X, Y, l2_cost, lr = 0.1)\n",
        "\n",
        "  if i % 25 == 0:\n",
        "    loss.append(l2_cost [0](pY, Y))\n",
        "    res = 50\n",
        "    _x0 = np.linspace(-1.5, 1.5, res)\n",
        "    _x1 = np.linspace(-1.5, 1.5, res)\n",
        "\n",
        "    _Y = np.zeros((res,res))\n",
        "\n",
        "    for i0, x0 in enumerate(_x0):\n",
        "      for i1, x1 in enumerate(_x1):\n",
        "        _Y[i0, i1] = train(neural_n, np.array([[x0, x1]]), Y, l2_cost, train = False)[0][0]\n",
        "    plt.pcolormesh(_x0, _xl, _Y, cmap=\"coolwarm\")\n",
        "    plt.axis(\"equal\")\n",
        "\n",
        "    plt.scatter(X[Y[:,0] == 0, 0], X[Y[:,0] == 0,1], c = \"skyblue\")\n",
        "    plt.scatter(X[Y[:,0] == 1, 0], X[Y[:,0] == 1,1], c = \"salmon\")\n",
        "\n",
        "    clear_output(wait = True)\n",
        "    plt.show()\n",
        "    plt.plot(range(len(loss)), loss)\n",
        "    plt.show()\n",
        "    time.sleep(0.5)  \n",
        "\n",
        "\n"
      ],
      "execution_count": null,
      "outputs": [
        {
          "output_type": "display_data",
          "data": {
            "image/png": "[encoded data removed]",
            "text/plain": [
              "<Figure size 432x288 with 1 Axes>"
            ]
          },
          "metadata": {
            "tags": [],
            "needs_background": "light"
          }
        },
        {
          "output_type": "display_data",
          "data": {
            "image/png": "[encoded data removed]",
            "text/plain": [
              "<Figure size 432x288 with 1 Axes>"
            ]
          },
          "metadata": {
            "tags": [],
            "needs_background": "light"
          }
        },
        {
          "output_type": "stream",
          "text": [
            "0.00014582500486091184\n",
            "(500, 1)\n",
            "(500, 8)\n",
            "(500, 4)\n",
            "0.00014574931066139917\n",
            "(500, 1)\n",
            "(500, 8)\n",
            "(500, 4)\n",
            "0.00014567369007196994\n",
            "(500, 1)\n",
            "(500, 8)\n",
            "(500, 4)\n",
            "0.0001455981429839468\n",
            "(500, 1)\n",
            "(500, 8)\n",
            "(500, 4)\n",
            "0.0001455226692888635\n",
            "(500, 1)\n",
            "(500, 8)\n",
            "(500, 4)\n",
            "0.00014544726887846321\n",
            "(500, 1)\n",
            "(500, 8)\n",
            "(500, 4)\n",
            "0.0001453719416447018\n",
            "(500, 1)\n",
            "(500, 8)\n",
            "(500, 4)\n",
            "0.00014529668747974015\n",
            "(500, 1)\n",
            "(500, 8)\n",
            "(500, 4)\n",
            "0.0001452215062759528\n",
            "(500, 1)\n",
            "(500, 8)\n",
            "(500, 4)\n",
            "0.00014514639792591937\n",
            "(500, 1)\n",
            "(500, 8)\n",
            "(500, 4)\n",
            "0.00014507136232242874\n",
            "(500, 1)\n",
            "(500, 8)\n",
            "(500, 4)\n",
            "0.00014499639935847686\n",
            "(500, 1)\n",
            "(500, 8)\n",
            "(500, 4)\n",
            "0.00014492150892726616\n",
            "(500, 1)\n",
            "(500, 8)\n",
            "(500, 4)\n",
            "0.0001448466909222066\n",
            "(500, 1)\n",
            "(500, 8)\n",
            "(500, 4)\n",
            "0.00014477194523691207\n",
            "(500, 1)\n",
            "(500, 8)\n",
            "(500, 4)\n",
            "0.00014469727176520347\n",
            "(500, 1)\n",
            "(500, 8)\n",
            "(500, 4)\n",
            "0.0001446226704011057\n",
            "(500, 1)\n",
            "(500, 8)\n",
            "(500, 4)\n",
            "0.00014454814103884896\n",
            "(500, 1)\n",
            "(500, 8)\n",
            "(500, 4)\n",
            "0.0001444736835728654\n",
            "(500, 1)\n",
            "(500, 8)\n",
            "(500, 4)\n",
            "0.00014439929789779432\n",
            "(500, 1)\n",
            "(500, 8)\n",
            "(500, 4)\n",
            "0.00014432498390847285\n",
            "(500, 1)\n",
            "(500, 8)\n",
            "(500, 4)\n",
            "0.0001442507414999436\n",
            "(500, 1)\n",
            "(500, 8)\n",
            "(500, 4)\n",
            "0.00014417657056745142\n",
            "(500, 1)\n",
            "(500, 8)\n",
            "(500, 4)\n",
            "0.00014410247100644097\n",
            "(500, 1)\n",
            "(500, 8)\n",
            "(500, 4)\n"
          ],
          "name": "stdout"
        }
      ]
    },
    {
      "cell_type": "code",
      "metadata": {
        "id": "dnMJlg2Llm0U"
      },
      "source": [
        ""
      ],
      "execution_count": null,
      "outputs": []
    },
    {
      "cell_type": "markdown",
      "metadata": {
        "id": "DUNzJc4jTj6G"
      },
      "source": [
        "<table class=\"tfo-notebook-buttons\" align=\"left\">\n",
        "  <td>\n",
        "    <a target=\"_blank\" href=\"https://www.tensorflow.org/tutorials/quickstart/beginner\"><img src=\"https://www.tensorflow.org/images/tf_logo_32px.png\" />View on TensorFlow.org</a>\n",
        "  </td>\n",
        "  <td>\n",
        "    <a target=\"_blank\" href=\"https://colab.research.google.com/github/tensorflow/docs/blob/master/site/en/tutorials/quickstart/beginner.ipynb\"><img src=\"https://www.tensorflow.org/images/colab_logo_32px.png\" />Run in Google Colab</a>\n",
        "  </td>\n",
        "  <td>\n",
        "    <a target=\"_blank\" href=\"https://github.com/tensorflow/docs/blob/master/site/en/tutorials/quickstart/beginner.ipynb\"><img src=\"https://www.tensorflow.org/images/GitHub-Mark-32px.png\" />View source on GitHub</a>\n",
        "  </td>\n",
        "  <td>\n",
        "    <a href=\"https://storage.googleapis.com/tensorflow_docs/docs/site/en/tutorials/quickstart/beginner.ipynb\"><img src=\"https://www.tensorflow.org/images/download_logo_32px.png\" />Download notebook</a>\n",
        "  </td>\n",
        "</table>"
      ]
    },
    {
      "cell_type": "markdown",
      "metadata": {
        "id": "04QgGZc9bF5D"
      },
      "source": [
        "This short introduction uses [Keras](https://www.tensorflow.org/guide/keras/overview) to:\n",
        "\n",
        "1. Build a neural network that classifies images.\n",
        "2. Train this neural network.\n",
        "3. And, finally, evaluate the accuracy of the model."
      ]
    },
    {
      "cell_type": "markdown",
      "metadata": {
        "id": "hiH7AC-NTniF"
      },
      "source": [
        "This is a [Google Colaboratory](https://colab.research.google.com/notebooks/welcome.ipynb) notebook file. Python programs are run directly in the browser—a great way to learn and use TensorFlow. To follow this tutorial, run the notebook in Google Colab by clicking the button at the top of this page.\n",
        "\n",
        "1. In Colab, connect to a Python runtime: At the top-right of the menu bar, select *CONNECT*.\n",
        "2. Run all the notebook code cells: Select *Runtime* > *Run all*."
      ]
    },
    {
      "cell_type": "markdown",
      "metadata": {
        "id": "nnrWf3PCEzXL"
      },
      "source": [
        "Download and install TensorFlow 2. Import TensorFlow into your program:\n",
        "\n",
        "Note: Upgrade `pip` to install the TensorFlow 2 package. See the [install guide](https://www.tensorflow.org/install) for details."
      ]
    },
    {
      "cell_type": "code",
      "metadata": {
        "id": "0trJmd6DjqBZ"
      },
      "source": [
        "import tensorflow as tf"
      ],
      "execution_count": null,
      "outputs": []
    },
    {
      "cell_type": "markdown",
      "metadata": {
        "id": "7NAbSZiaoJ4z"
      },
      "source": [
        "Load and prepare the [MNIST dataset](http://yann.lecun.com/exdb/mnist/). Convert the samples from integers to floating-point numbers:"
      ]
    },
    {
      "cell_type": "code",
      "metadata": {
        "id": "7FP5258xjs-v"
      },
      "source": [
        "mnist = tf.keras.datasets.mnist\n",
        "\n",
        "(x_train, y_train), (x_test, y_test) = mnist.load_data()\n",
        "x_train, x_test = x_train / 255.0, x_test / 255.0"
      ],
      "execution_count": null,
      "outputs": []
    },
    {
      "cell_type": "markdown",
      "metadata": {
        "id": "BPZ68wASog_I"
      },
      "source": [
        "Build the `tf.keras.Sequential` model by stacking layers. Choose an optimizer and loss function for training:"
      ]
    },
    {
      "cell_type": "code",
      "metadata": {
        "id": "h3IKyzTCDNGo"
      },
      "source": [
        "model = tf.keras.models.Sequential([\n",
        "  tf.keras.layers.Flatten(input_shape=(28, 28)),\n",
        "  tf.keras.layers.Dense(128, activation='relu'),\n",
        "  tf.keras.layers.Dropout(0.2),\n",
        "  tf.keras.layers.Dense(10)\n",
        "])"
      ],
      "execution_count": null,
      "outputs": []
    },
    {
      "cell_type": "markdown",
      "metadata": {
        "id": "l2hiez2eIUz8"
      },
      "source": [
        "For each example the model returns a vector of \"[logits](https://developers.google.com/machine-learning/glossary#logits)\" or \"[log-odds](https://developers.google.com/machine-learning/glossary#log-odds)\" scores, one for each class."
      ]
    },
    {
      "cell_type": "code",
      "metadata": {
        "id": "OeOrNdnkEEcR"
      },
      "source": [
        "predictions = model(x_train[:1]).numpy()\n",
        "predictions"
      ],
      "execution_count": null,
      "outputs": []
    },
    {
      "cell_type": "markdown",
      "metadata": {
        "id": "tgjhDQGcIniO"
      },
      "source": [
        "The `tf.nn.softmax` function converts these logits to \"probabilities\" for each class: "
      ]
    },
    {
      "cell_type": "code",
      "metadata": {
        "id": "zWSRnQ0WI5eq"
      },
      "source": [
        "tf.nn.softmax(predictions).numpy()"
      ],
      "execution_count": null,
      "outputs": []
    },
    {
      "cell_type": "markdown",
      "metadata": {
        "id": "he5u_okAYS4a"
      },
      "source": [
        "Note: It is possible to bake this `tf.nn.softmax` in as the activation function for the last layer of the network. While this can make the model output more directly interpretable, this approach is discouraged as it's impossible to\n",
        "provide an exact and numerically stable loss calculation for all models when using a softmax output. "
      ]
    },
    {
      "cell_type": "markdown",
      "metadata": {
        "id": "hQyugpgRIyrA"
      },
      "source": [
        "The `losses.SparseCategoricalCrossentropy` loss takes a vector of logits and a `True` index and returns a scalar loss for each example."
      ]
    },
    {
      "cell_type": "code",
      "metadata": {
        "id": "RSkzdv8MD0tT"
      },
      "source": [
        "loss_fn = tf.keras.losses.SparseCategoricalCrossentropy(from_logits=True)"
      ],
      "execution_count": null,
      "outputs": []
    },
    {
      "cell_type": "markdown",
      "metadata": {
        "id": "SfR4MsSDU880"
      },
      "source": [
        "This loss is equal to the negative log probability of the true class:\n",
        "It is zero if the model is sure of the correct class.\n",
        "\n",
        "This untrained model gives probabilities close to random (1/10 for each class), so the initial loss should be close to `-tf.math.log(1/10) ~= 2.3`."
      ]
    },
    {
      "cell_type": "code",
      "metadata": {
        "id": "NJWqEVrrJ7ZB"
      },
      "source": [
        "loss_fn(y_train[:1], predictions).numpy()"
      ],
      "execution_count": null,
      "outputs": []
    },
    {
      "cell_type": "code",
      "metadata": {
        "id": "9foNKHzTD2Vo"
      },
      "source": [
        "model.compile(optimizer='adam',\n",
        "              loss=loss_fn,\n",
        "              metrics=['accuracy'])"
      ],
      "execution_count": null,
      "outputs": []
    },
    {
      "cell_type": "markdown",
      "metadata": {
        "id": "ix4mEL65on-w"
      },
      "source": [
        "The `Model.fit` method adjusts the model parameters to minimize the loss: "
      ]
    },
    {
      "cell_type": "code",
      "metadata": {
        "id": "y7suUbJXVLqP"
      },
      "source": [
        "model.fit(x_train, y_train, epochs=5)"
      ],
      "execution_count": null,
      "outputs": []
    },
    {
      "cell_type": "markdown",
      "metadata": {
        "id": "4mDAAPFqVVgn"
      },
      "source": [
        "The `Model.evaluate` method checks the models performance, usually on a \"[Validation-set](https://developers.google.com/machine-learning/glossary#validation-set)\" or \"[Test-set](https://developers.google.com/machine-learning/glossary#test-set)\"."
      ]
    },
    {
      "cell_type": "code",
      "metadata": {
        "id": "F7dTAzgHDUh7"
      },
      "source": [
        "model.evaluate(x_test,  y_test, verbose=2)"
      ],
      "execution_count": null,
      "outputs": []
    },
    {
      "cell_type": "markdown",
      "metadata": {
        "id": "T4JfEh7kvx6m"
      },
      "source": [
        "The image classifier is now trained to ~98% accuracy on this dataset. To learn more, read the [TensorFlow tutorials](https://www.tensorflow.org/tutorials/)."
      ]
    },
    {
      "cell_type": "markdown",
      "metadata": {
        "id": "Aj8NrlzlJqDG"
      },
      "source": [
        "If you want your model to return a probability, you can wrap the trained model, and attach the softmax to it:"
      ]
    },
    {
      "cell_type": "code",
      "metadata": {
        "id": "rYb6DrEH0GMv"
      },
      "source": [
        "probability_model = tf.keras.Sequential([\n",
        "  model,\n",
        "  tf.keras.layers.Softmax()\n",
        "])"
      ],
      "execution_count": null,
      "outputs": []
    },
    {
      "cell_type": "code",
      "metadata": {
        "id": "cnqOZtUp1YR_"
      },
      "source": [
        "probability_model(x_test[:5])"
      ],
      "execution_count": null,
      "outputs": []
    }
  ]
}